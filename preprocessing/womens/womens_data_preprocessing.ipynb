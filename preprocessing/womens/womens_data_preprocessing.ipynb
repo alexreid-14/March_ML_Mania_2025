{
 "cells": [
  {
   "cell_type": "code",
   "execution_count": 1,
   "metadata": {},
   "outputs": [],
   "source": [
    "import pandas as pd\n",
    "import numpy as np \n",
    "import os \n",
    "from pathlib import Path"
   ]
  },
  {
   "cell_type": "code",
   "execution_count": null,
   "metadata": {},
   "outputs": [],
   "source": [
    "# Team Info \n",
    "womens_teams = pd.read_csv(\"../data/WTeams.csv\")\n",
    "\n",
    "# Season Info \n",
    "womens_seasons = pd.read_csv(\"../data/Wseasons.csv\")\n",
    "\n",
    "# Seed Info \n",
    "womens_tourney_seeds = pd.read_csv(\"../data/WNCAATourneySeeds.csv\")\n",
    "\n",
    "# Regular Season Data - Each record: game\n",
    "# Regular Seasons Games - All games before day num 132 \n",
    "womens_reg_season_data = pd.read_csv(\"../data/WRegularSeasonCompactResults.csv\")\n",
    "\n",
    "# Tourney Data \n",
    "womens_tourney_data = pd.read_csv(\"../data/WNCAATourneyCompactResults.csv\")\n",
    "\n",
    "# Regular Season Box Scores \n",
    "womens_reg_season_box_scores = pd.read_csv(\"../data/WRegularSeasonDetailedResults.csv\")\n",
    "\n",
    "# Tournament Box Scores \n",
    "womens_tourney_box_scores = pd.read_csv(\"../data/WNCAATourneyDetailedResults.csv\")\n",
    "\n",
    "# Conferences \n",
    "conferences = pd.read_csv(\"../data/Conferences.csv\")\n",
    "womens_conferences = pd.read_csv(\"../data/WTeamConferences.csv\")\n",
    "\n",
    "# Alternate Spellings \n",
    "womens_spellings = pd.read_csv(\"../data/WTeamSpellings.csv\", encoding='ISO-8859-1')\n",
    "\n",
    "#Tourney Slots \n",
    "womens_tourney_slots = pd.read_csv(\"../data/WNCAATourneySlots.csv\")\n",
    "\n",
    "# Conference Tourney \n",
    "womens_conf_tourney = pd.read_csv(\"../data/WConferenceTourneyGames.csv\")\n",
    "\n",
    "# Geography  \n",
    "cities = pd.read_csv(\"../data/Cities.csv\")\n",
    "womens_cities = pd.read_csv(\"../data/WGameCities.csv\")\n",
    "\n",
    "# Sample Submission\n",
    "sample = pd.read_csv(\"../data/SampleSubmissionStage1.csv\")"
   ]
  }
 ],
 "metadata": {
  "kernelspec": {
   "display_name": "venv",
   "language": "python",
   "name": "python3"
  },
  "language_info": {
   "codemirror_mode": {
    "name": "ipython",
    "version": 3
   },
   "file_extension": ".py",
   "mimetype": "text/x-python",
   "name": "python",
   "nbconvert_exporter": "python",
   "pygments_lexer": "ipython3",
   "version": "3.13.2"
  }
 },
 "nbformat": 4,
 "nbformat_minor": 2
}
