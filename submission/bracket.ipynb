{
 "cells": [
  {
   "cell_type": "code",
   "execution_count": null,
   "metadata": {},
   "outputs": [],
   "source": [
    "import pandas as pd\n",
    "import matplotlib.pyplot as plt\n",
    "from ipywidgets import interact, widgets\n",
    "\n",
    "\n",
    "# Load the data\n",
    "teams = pd.read_csv(\"teams.csv\")\n",
    "\n",
    "# Display the first few rows\n",
    "print(teams.head())"
   ]
  },
  {
   "cell_type": "code",
   "execution_count": null,
   "metadata": {},
   "outputs": [],
   "source": [
    "def initialize_bracket(teams):\n",
    "    bracket = {\n",
    "        \"W\": teams[teams[\"Region\"] == \"W\"].sort_values(by=\"Seed\").reset_index(drop=True),\n",
    "        \"X\": teams[teams[\"Region\"] == \"X\"].sort_values(by=\"Seed\").reset_index(drop=True),\n",
    "        \"Y\": teams[teams[\"Region\"] == \"Y\"].sort_values(by=\"Seed\").reset_index(drop=True),\n",
    "        \"Z\": teams[teams[\"Region\"] == \"Z\"].sort_values(by=\"Seed\").reset_index(drop=True),\n",
    "    }\n",
    "    return bracket\n",
    "\n",
    "bracket = initialize_bracket(teams)"
   ]
  },
  {
   "cell_type": "code",
   "execution_count": null,
   "metadata": {},
   "outputs": [],
   "source": [
    "\n",
    "def plot_bracket(bracket, round_num):\n",
    "    fig, ax = plt.subplots(figsize=(15, 10))\n",
    "    regions = [\"W\", \"X\", \"Y\", \"Z\"]\n",
    "    for i, region in enumerate(regions):\n",
    "        region_teams = bracket[region]\n",
    "        for j, team in region_teams.iterrows():\n",
    "            team_name = team[\"TeamName\"]\n",
    "            seed = team[\"Seed\"]\n",
    "            prob = team[f\"Round{round_num}Prob\"]\n",
    "            ax.text(i * 5, 16 - j, f\"{seed} {team_name} ({prob:.0%})\", fontsize=10, ha=\"center\")\n",
    "    ax.set_xlim(-1, 20)\n",
    "    ax.set_ylim(-1, 17)\n",
    "    ax.axis(\"off\")\n",
    "    plt.title(f\"Round {round_num} Bracket\")\n",
    "    plt.show()\n",
    "\n",
    "# Display the initial bracket for Round 1\n",
    "plot_bracket(bracket, round_num=1)"
   ]
  },
  {
   "cell_type": "code",
   "execution_count": null,
   "metadata": {},
   "outputs": [],
   "source": [
    "def update_bracket(bracket, region, winner):\n",
    "    # Update the bracket with the winning team\n",
    "    bracket[region] = bracket[region][bracket[region][\"TeamName\"] == winner]\n",
    "    return bracket\n",
    "\n",
    "def interactive_bracket(bracket, round_num):\n",
    "    regions = [\"W\", \"X\", \"Y\", \"Z\"]\n",
    "    for region in regions:\n",
    "        region_teams = bracket[region]\n",
    "        if len(region_teams) > 1:\n",
    "            print(f\"Region {region}:\")\n",
    "            for i, team in region_teams.iterrows():\n",
    "                team_name = team[\"TeamName\"]\n",
    "                prob = team[f\"Round{round_num}Prob\"]\n",
    "                print(f\"{team_name} ({prob:.0%})\")\n",
    "            winner = input(f\"Select the winner for Region {region}: \")\n",
    "            bracket = update_bracket(bracket, region, winner)\n",
    "    return bracket\n",
    "\n",
    "# Simulate Round 1 interactively\n",
    "bracket = interactive_bracket(bracket, round_num=1)\n",
    "\n",
    "# Display the updated bracket for Round 2\n",
    "plot_bracket(bracket, round_num=2)"
   ]
  },
  {
   "cell_type": "code",
   "execution_count": null,
   "metadata": {},
   "outputs": [],
   "source": [
    "for round_num in range(1, 5):\n",
    "    print(f\"\\n--- Round {round_num} ---\")\n",
    "    bracket = interactive_bracket(bracket, round_num)\n",
    "    plot_bracket(bracket, round_num + 1)\n",
    "\n",
    "# Final champion\n",
    "champion = list(bracket[\"W\"].iloc[0][\"TeamName\"])\n",
    "print(f\"\\nThe champion is: {champion}!\")"
   ]
  }
 ],
 "metadata": {
  "kernelspec": {
   "display_name": "venv",
   "language": "python",
   "name": "python3"
  },
  "language_info": {
   "name": "python",
   "version": "3.13.2"
  }
 },
 "nbformat": 4,
 "nbformat_minor": 2
}
